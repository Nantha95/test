{
 "cells": [
  {
   "cell_type": "code",
   "execution_count": null,
   "metadata": {},
   "outputs": [],
   "source": [
    "#Download XML from Biomodel_URL.txt file\n",
    "\n",
    "from selenium import webdriver\n",
    "import time\n",
    "import requests\n",
    "from bs4 import BeautifulSoup\n",
    "import json\n",
    "\n",
    "browser = webdriver.Chrome()\n",
    "browser.maximize_window()\n",
    "\n",
    "f = open(\"/Biomodels_URL.txt\")                             # Set the current directory path to load .txt file\n",
    "urls = [url.strip() for url in f.readlines()]\n",
    "\n",
    "for u in urls:\n",
    "    browser.get(u)\n",
    "    time.sleep(2)\n",
    "\n",
    "    d = browser.page_source\n",
    "    res = BeautifulSoup(d,\"html.parser\")\n",
    "    res_1 = res.find(id = 'Files')\n",
    "    res_2 = res_1.find(class_='responsive-card-table stack')  # Check whether .xml,.pdf,.svg files are present, if not move to next URL\n",
    "    if (res_2 != None):        \n",
    "        res_3 = res_2.find('tbody')\n",
    "        res_4 = res_3.find_all('tr')\n",
    "        # print(len(res_4))\n",
    "        for r in res_4:\n",
    "            res_5 = r.find('a')\n",
    "            if (res_5 != None):\n",
    "                attribute = res_5['data-file-name']\n",
    "                if \".xml\" in attribute:\n",
    "                    url = 'https://www.ebi.ac.uk' + res_5['data-download-link']  # Get .XML link\n",
    "                    browser.get(url) # Load URL to download XML file\n",
    "            \n",
    "            else:\n",
    "                continue\n",
    "    else:\n",
    "        continue"
   ]
  }
 ],
 "metadata": {
  "kernelspec": {
   "display_name": "Python 3 (ipykernel)",
   "language": "python",
   "name": "python3"
  },
  "language_info": {
   "codemirror_mode": {
    "name": "ipython",
    "version": 3
   },
   "file_extension": ".py",
   "mimetype": "text/x-python",
   "name": "python",
   "nbconvert_exporter": "python",
   "pygments_lexer": "ipython3",
   "version": "3.9.7"
  }
 },
 "nbformat": 4,
 "nbformat_minor": 4
}
