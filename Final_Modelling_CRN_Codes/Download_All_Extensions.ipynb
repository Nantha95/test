{
 "cells": [
  {
   "cell_type": "code",
   "execution_count": 3,
   "metadata": {},
   "outputs": [
    {
     "ename": "WebDriverException",
     "evalue": "Message: chrome not reachable\n  (Session info: chrome=96.0.4664.45)\nStacktrace:\nBacktrace:\n\tOrdinal0 [0x00316903+2517251]\n\tOrdinal0 [0x002AF8E1+2095329]\n\tOrdinal0 [0x001B2710+1058576]\n\tOrdinal0 [0x001A76A4+1013412]\n\tOrdinal0 [0x001A7EA8+1015464]\n\tOrdinal0 [0x001A9695+1021589]\n\tOrdinal0 [0x001A3686+996998]\n\tOrdinal0 [0x001B3A60+1063520]\n\tOrdinal0 [0x00205382+1397634]\n\tOrdinal0 [0x001F639B+1336219]\n\tOrdinal0 [0x001D27A7+1189799]\n\tOrdinal0 [0x001D3609+1193481]\n\tGetHandleVerifier [0x004A5904+1577972]\n\tGetHandleVerifier [0x00550B97+2279047]\n\tGetHandleVerifier [0x003A6D09+534521]\n\tGetHandleVerifier [0x003A5DB9+530601]\n\tOrdinal0 [0x002B4FF9+2117625]\n\tOrdinal0 [0x002B98A8+2136232]\n\tOrdinal0 [0x002B99E2+2136546]\n\tOrdinal0 [0x002C3541+2176321]\n\tBaseThreadInitThunk [0x76756359+25]\n\tRtlGetAppContainerNamedObjectPath [0x77AB87A4+228]\n\tRtlGetAppContainerNamedObjectPath [0x77AB8774+180]\n\t(No symbol) [0x00000000]\n",
     "output_type": "error",
     "traceback": [
      "\u001b[1;31m---------------------------------------------------------------------------\u001b[0m",
      "\u001b[1;31mWebDriverException\u001b[0m                        Traceback (most recent call last)",
      "\u001b[1;32m~\\AppData\\Local\\Temp/ipykernel_14412/1707347047.py\u001b[0m in \u001b[0;36m<module>\u001b[1;34m\u001b[0m\n\u001b[0;32m     18\u001b[0m     \u001b[1;31m# browser.find_element_by_xpath(\"/html/body/div[7]/div/div[2]/a\").click()  # Accept Cookies\u001b[0m\u001b[1;33m\u001b[0m\u001b[1;33m\u001b[0m\u001b[0m\n\u001b[0;32m     19\u001b[0m \u001b[1;33m\u001b[0m\u001b[0m\n\u001b[1;32m---> 20\u001b[1;33m     \u001b[0md\u001b[0m \u001b[1;33m=\u001b[0m \u001b[0mbrowser\u001b[0m\u001b[1;33m.\u001b[0m\u001b[0mpage_source\u001b[0m\u001b[1;33m\u001b[0m\u001b[1;33m\u001b[0m\u001b[0m\n\u001b[0m\u001b[0;32m     21\u001b[0m     \u001b[0mres\u001b[0m \u001b[1;33m=\u001b[0m \u001b[0mBeautifulSoup\u001b[0m\u001b[1;33m(\u001b[0m\u001b[0md\u001b[0m\u001b[1;33m,\u001b[0m\u001b[1;34m\"html.parser\"\u001b[0m\u001b[1;33m)\u001b[0m\u001b[1;33m\u001b[0m\u001b[1;33m\u001b[0m\u001b[0m\n\u001b[0;32m     22\u001b[0m     \u001b[0mres_1\u001b[0m \u001b[1;33m=\u001b[0m \u001b[0mres\u001b[0m\u001b[1;33m.\u001b[0m\u001b[0mfind\u001b[0m\u001b[1;33m(\u001b[0m\u001b[0mid\u001b[0m \u001b[1;33m=\u001b[0m \u001b[1;34m'Files'\u001b[0m\u001b[1;33m)\u001b[0m\u001b[1;33m\u001b[0m\u001b[1;33m\u001b[0m\u001b[0m\n",
      "\u001b[1;32mC:\\ProgramData\\Anaconda3\\lib\\site-packages\\selenium\\webdriver\\remote\\webdriver.py\u001b[0m in \u001b[0;36mpage_source\u001b[1;34m(self)\u001b[0m\n\u001b[0;32m    924\u001b[0m                 \u001b[0mdriver\u001b[0m\u001b[1;33m.\u001b[0m\u001b[0mpage_source\u001b[0m\u001b[1;33m\u001b[0m\u001b[1;33m\u001b[0m\u001b[0m\n\u001b[0;32m    925\u001b[0m         \"\"\"\n\u001b[1;32m--> 926\u001b[1;33m         \u001b[1;32mreturn\u001b[0m \u001b[0mself\u001b[0m\u001b[1;33m.\u001b[0m\u001b[0mexecute\u001b[0m\u001b[1;33m(\u001b[0m\u001b[0mCommand\u001b[0m\u001b[1;33m.\u001b[0m\u001b[0mGET_PAGE_SOURCE\u001b[0m\u001b[1;33m)\u001b[0m\u001b[1;33m[\u001b[0m\u001b[1;34m'value'\u001b[0m\u001b[1;33m]\u001b[0m\u001b[1;33m\u001b[0m\u001b[1;33m\u001b[0m\u001b[0m\n\u001b[0m\u001b[0;32m    927\u001b[0m \u001b[1;33m\u001b[0m\u001b[0m\n\u001b[0;32m    928\u001b[0m     \u001b[1;32mdef\u001b[0m \u001b[0mclose\u001b[0m\u001b[1;33m(\u001b[0m\u001b[0mself\u001b[0m\u001b[1;33m)\u001b[0m \u001b[1;33m->\u001b[0m \u001b[1;32mNone\u001b[0m\u001b[1;33m:\u001b[0m\u001b[1;33m\u001b[0m\u001b[1;33m\u001b[0m\u001b[0m\n",
      "\u001b[1;32mC:\\ProgramData\\Anaconda3\\lib\\site-packages\\selenium\\webdriver\\remote\\webdriver.py\u001b[0m in \u001b[0;36mexecute\u001b[1;34m(self, driver_command, params)\u001b[0m\n\u001b[0;32m    422\u001b[0m         \u001b[0mresponse\u001b[0m \u001b[1;33m=\u001b[0m \u001b[0mself\u001b[0m\u001b[1;33m.\u001b[0m\u001b[0mcommand_executor\u001b[0m\u001b[1;33m.\u001b[0m\u001b[0mexecute\u001b[0m\u001b[1;33m(\u001b[0m\u001b[0mdriver_command\u001b[0m\u001b[1;33m,\u001b[0m \u001b[0mparams\u001b[0m\u001b[1;33m)\u001b[0m\u001b[1;33m\u001b[0m\u001b[1;33m\u001b[0m\u001b[0m\n\u001b[0;32m    423\u001b[0m         \u001b[1;32mif\u001b[0m \u001b[0mresponse\u001b[0m\u001b[1;33m:\u001b[0m\u001b[1;33m\u001b[0m\u001b[1;33m\u001b[0m\u001b[0m\n\u001b[1;32m--> 424\u001b[1;33m             \u001b[0mself\u001b[0m\u001b[1;33m.\u001b[0m\u001b[0merror_handler\u001b[0m\u001b[1;33m.\u001b[0m\u001b[0mcheck_response\u001b[0m\u001b[1;33m(\u001b[0m\u001b[0mresponse\u001b[0m\u001b[1;33m)\u001b[0m\u001b[1;33m\u001b[0m\u001b[1;33m\u001b[0m\u001b[0m\n\u001b[0m\u001b[0;32m    425\u001b[0m             response['value'] = self._unwrap_value(\n\u001b[0;32m    426\u001b[0m                 response.get('value', None))\n",
      "\u001b[1;32mC:\\ProgramData\\Anaconda3\\lib\\site-packages\\selenium\\webdriver\\remote\\errorhandler.py\u001b[0m in \u001b[0;36mcheck_response\u001b[1;34m(self, response)\u001b[0m\n\u001b[0;32m    245\u001b[0m                 \u001b[0malert_text\u001b[0m \u001b[1;33m=\u001b[0m \u001b[0mvalue\u001b[0m\u001b[1;33m[\u001b[0m\u001b[1;34m'alert'\u001b[0m\u001b[1;33m]\u001b[0m\u001b[1;33m.\u001b[0m\u001b[0mget\u001b[0m\u001b[1;33m(\u001b[0m\u001b[1;34m'text'\u001b[0m\u001b[1;33m)\u001b[0m\u001b[1;33m\u001b[0m\u001b[1;33m\u001b[0m\u001b[0m\n\u001b[0;32m    246\u001b[0m             \u001b[1;32mraise\u001b[0m \u001b[0mexception_class\u001b[0m\u001b[1;33m(\u001b[0m\u001b[0mmessage\u001b[0m\u001b[1;33m,\u001b[0m \u001b[0mscreen\u001b[0m\u001b[1;33m,\u001b[0m \u001b[0mstacktrace\u001b[0m\u001b[1;33m,\u001b[0m \u001b[0malert_text\u001b[0m\u001b[1;33m)\u001b[0m  \u001b[1;31m# type: ignore[call-arg]  # mypy is not smart enough here\u001b[0m\u001b[1;33m\u001b[0m\u001b[1;33m\u001b[0m\u001b[0m\n\u001b[1;32m--> 247\u001b[1;33m         \u001b[1;32mraise\u001b[0m \u001b[0mexception_class\u001b[0m\u001b[1;33m(\u001b[0m\u001b[0mmessage\u001b[0m\u001b[1;33m,\u001b[0m \u001b[0mscreen\u001b[0m\u001b[1;33m,\u001b[0m \u001b[0mstacktrace\u001b[0m\u001b[1;33m)\u001b[0m\u001b[1;33m\u001b[0m\u001b[1;33m\u001b[0m\u001b[0m\n\u001b[0m\u001b[0;32m    248\u001b[0m \u001b[1;33m\u001b[0m\u001b[0m\n\u001b[0;32m    249\u001b[0m     \u001b[1;32mdef\u001b[0m \u001b[0m_value_or_default\u001b[0m\u001b[1;33m(\u001b[0m\u001b[0mself\u001b[0m\u001b[1;33m,\u001b[0m \u001b[0mobj\u001b[0m\u001b[1;33m:\u001b[0m \u001b[0mMapping\u001b[0m\u001b[1;33m[\u001b[0m\u001b[0m_KT\u001b[0m\u001b[1;33m,\u001b[0m \u001b[0m_VT\u001b[0m\u001b[1;33m]\u001b[0m\u001b[1;33m,\u001b[0m \u001b[0mkey\u001b[0m\u001b[1;33m:\u001b[0m \u001b[0m_KT\u001b[0m\u001b[1;33m,\u001b[0m \u001b[0mdefault\u001b[0m\u001b[1;33m:\u001b[0m \u001b[0m_VT\u001b[0m\u001b[1;33m)\u001b[0m \u001b[1;33m->\u001b[0m \u001b[0m_VT\u001b[0m\u001b[1;33m:\u001b[0m\u001b[1;33m\u001b[0m\u001b[1;33m\u001b[0m\u001b[0m\n",
      "\u001b[1;31mWebDriverException\u001b[0m: Message: chrome not reachable\n  (Session info: chrome=96.0.4664.45)\nStacktrace:\nBacktrace:\n\tOrdinal0 [0x00316903+2517251]\n\tOrdinal0 [0x002AF8E1+2095329]\n\tOrdinal0 [0x001B2710+1058576]\n\tOrdinal0 [0x001A76A4+1013412]\n\tOrdinal0 [0x001A7EA8+1015464]\n\tOrdinal0 [0x001A9695+1021589]\n\tOrdinal0 [0x001A3686+996998]\n\tOrdinal0 [0x001B3A60+1063520]\n\tOrdinal0 [0x00205382+1397634]\n\tOrdinal0 [0x001F639B+1336219]\n\tOrdinal0 [0x001D27A7+1189799]\n\tOrdinal0 [0x001D3609+1193481]\n\tGetHandleVerifier [0x004A5904+1577972]\n\tGetHandleVerifier [0x00550B97+2279047]\n\tGetHandleVerifier [0x003A6D09+534521]\n\tGetHandleVerifier [0x003A5DB9+530601]\n\tOrdinal0 [0x002B4FF9+2117625]\n\tOrdinal0 [0x002B98A8+2136232]\n\tOrdinal0 [0x002B99E2+2136546]\n\tOrdinal0 [0x002C3541+2176321]\n\tBaseThreadInitThunk [0x76756359+25]\n\tRtlGetAppContainerNamedObjectPath [0x77AB87A4+228]\n\tRtlGetAppContainerNamedObjectPath [0x77AB8774+180]\n\t(No symbol) [0x00000000]\n"
     ]
    }
   ],
   "source": [
    "#Download XML from Biomodel_URL.txt file\n",
    "\n",
    "from selenium import webdriver\n",
    "import time\n",
    "import requests\n",
    "from bs4 import BeautifulSoup\n",
    "import json\n",
    "\n",
    "browser = webdriver.Chrome()\n",
    "browser.maximize_window()\n",
    "\n",
    "f = open(\"C:/Users/dr281st/OneDrive - EY/Documents/python/jupyter/Final-Codes/Download-URL's/Biomodels_URL.txt\")\n",
    "urls = [url.strip() for url in f.readlines()]\n",
    "\n",
    "for u in urls:\n",
    "    browser.get(u)\n",
    "    time.sleep(2)\n",
    "\n",
    "    d = browser.page_source\n",
    "    res = BeautifulSoup(d,\"html.parser\")\n",
    "    res_1 = res.find(id = 'Files')\n",
    "    res_2 = res_1.find(class_='responsive-card-table stack')  # Check whether .xml,.pdf,.svg files are present, if not move to next URL\n",
    "    if (res_2 != None):        \n",
    "        res_3 = res_2.find('tbody')\n",
    "        res_4 = res_3.find_all('tr')\n",
    "        # print(len(res_4))\n",
    "        for r in res_4:\n",
    "            res_5 = r.find('a')\n",
    "            if (res_5 != None):\n",
    "                attribute = res_5['data-file-name']\n",
    "                if \".xml\" in attribute:\n",
    "                    url = 'https://www.ebi.ac.uk' + res_5['data-download-link']  # Get .XML link\n",
    "                    browser.get(url) # Load URL to download XML file\n",
    "                if \".pdf\" in attribute:\n",
    "                    url = 'https://www.ebi.ac.uk' + res_5['data-download-link']  # Get .PDF link\n",
    "                    browser.get(url) # Load URL to download PDF file\n",
    "                if \".svg\" in attribute:\n",
    "                    url = 'https://www.ebi.ac.uk' + res_5['data-download-link']  # Get .SVG link\n",
    "                    browser.get(url) # Load URL to download XML file\n",
    "                if \".xpp\" in attribute:\n",
    "                    url = 'https://www.ebi.ac.uk' + res_5['data-download-link']  # Get .XPP link\n",
    "                    browser.get(url) # Load URL to download XPP file\n",
    "                if \".vcml\" in attribute:\n",
    "                    url = 'https://www.ebi.ac.uk' + res_5['data-download-link']  # Get .VCML link\n",
    "                    browser.get(url) # Load URL to download VCML file\n",
    "                if \".sci\" in attribute:\n",
    "                    url = 'https://www.ebi.ac.uk' + res_5['data-download-link']  # Get .SCI link\n",
    "                    browser.get(url) # Load URL to download SCI file\n",
    "                if \".png\" in attribute:\n",
    "                    url = 'https://www.ebi.ac.uk' + res_5['data-download-link']  # Get .PNG link\n",
    "                    browser.get(url) # Load URL to download PNG file\n",
    "                if \".m\" in attribute:\n",
    "                    url = 'https://www.ebi.ac.uk' + res_5['data-download-link']  # Get .M link\n",
    "                    browser.get(url) # Load URL to download M file\n",
    "                if \".owl\" in attribute:\n",
    "                    url = 'https://www.ebi.ac.uk' + res_5['data-download-link']  # Get .OWL link\n",
    "                    browser.get(url) # Load URL to download OWL file\n",
    "            else:\n",
    "                continue\n",
    "    else:\n",
    "        continue"
   ]
  },
  {
   "cell_type": "code",
   "execution_count": null,
   "metadata": {},
   "outputs": [],
   "source": []
  }
 ],
 "metadata": {
  "kernelspec": {
   "display_name": "Python 3 (ipykernel)",
   "language": "python",
   "name": "python3"
  },
  "language_info": {
   "codemirror_mode": {
    "name": "ipython",
    "version": 3
   },
   "file_extension": ".py",
   "mimetype": "text/x-python",
   "name": "python",
   "nbconvert_exporter": "python",
   "pygments_lexer": "ipython3",
   "version": "3.9.7"
  }
 },
 "nbformat": 4,
 "nbformat_minor": 4
}
