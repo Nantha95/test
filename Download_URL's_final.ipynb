{
 "cells": [
  {
   "cell_type": "code",
   "execution_count": null,
   "metadata": {},
   "outputs": [],
   "source": [
    "from selenium import webdriver\n",
    "import time\n",
    "import requests\n",
    "from bs4 import BeautifulSoup\n",
    "import json\n",
    "browser = webdriver.Chrome()\n",
    "browser.maximize_window()\n",
    "time.sleep(2)\n",
    "\n",
    "browser.get(\"https://www.ebi.ac.uk/biomodels\") # Load Biomodel URL\n",
    "\n",
    "browser.find_element_by_xpath(\"/html/body/div[7]/div/div[2]/a\").click()  # Accept Cookies\n",
    "browser.find_element_by_xpath(\"/html/body/div[1]/div[2]/header/div[2]/nav/ul/li[2]\").click()   # Click Browse\n",
    "time.sleep(2)\n",
    "\n",
    "browser.find_element_by_xpath(\"/html/body/div[1]/div[2]/header/div[2]/nav/ul/li[2]/ul/li[1]\").click()  # Click All Models\n",
    "browser.find_element_by_xpath(\"/html/body/div[1]/div[3]/div/div/div[2]/div[2]/div[1]/div[2]/ul/li[1]/a\").click() #100 data per page\n",
    "time.sleep(5)\n",
    "\n",
    "while(browser.find_element_by_xpath(\"/html/body/div[1]/div[3]/div/div/div[2]/div[2]/div[4]/div[2]\") != None):  # Load 100 models per page\n",
    "    d = browser.page_source\n",
    "    res = BeautifulSoup(d,\"html.parser\")\n",
    "    b = browser.find_element_by_xpath(\"/html/body/div[1]/div[3]/div/div/div[2]/div[2]/div[4]/div[2]/a\")    \n",
    "    resp_1 = res.find_all(class_='column row modelPlaceHolder') # Biomodels Titles Count per page\n",
    "    for r in resp_1:\n",
    "        resp_2 = r.find('h4')\n",
    "        resp_3 = resp_2.find('a')\n",
    "        resp_4 = 'https://www.ebi.ac.uk' + resp_3['href'] + '#Files'\n",
    "        with open('Biomodels_URL.txt', 'a') as file:\n",
    "            file.write(resp_4)\n",
    "            file.write('\\n')\n",
    "#         print(resp_4)\n",
    "        \n",
    "    browser.execute_script(\"arguments[0].scrollIntoView();\", b)\n",
    "    time.sleep(2)    \n",
    "    browser.find_element_by_xpath(\"/html/body/div[1]/div[3]/div/div/div[2]/div[2]/div[4]/div[2]/span[5]/following-sibling::a\").click()  # Paginate until last page is grayed out\n"
   ]
  }
 ],
 "metadata": {
  "kernelspec": {
   "display_name": "Python 3 (ipykernel)",
   "language": "python",
   "name": "python3"
  },
  "language_info": {
   "codemirror_mode": {
    "name": "ipython",
    "version": 3
   },
   "file_extension": ".py",
   "mimetype": "text/x-python",
   "name": "python",
   "nbconvert_exporter": "python",
   "pygments_lexer": "ipython3",
   "version": "3.9.7"
  }
 },
 "nbformat": 4,
 "nbformat_minor": 4
}
